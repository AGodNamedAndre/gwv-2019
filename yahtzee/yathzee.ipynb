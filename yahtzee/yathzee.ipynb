{
 "cells": [
  {
   "cell_type": "code",
   "execution_count": 1,
   "metadata": {},
   "outputs": [],
   "source": [
    "import numpy as np\n",
    "from collections import Counter\n",
    "import math\n",
    "from numba import jit\n",
    "from fractions import Fraction"
   ]
  },
  {
   "cell_type": "code",
   "execution_count": 2,
   "metadata": {},
   "outputs": [],
   "source": [
    "NUM_DICE = 5"
   ]
  },
  {
   "cell_type": "code",
   "execution_count": 3,
   "metadata": {},
   "outputs": [],
   "source": [
    "def roll_dices(keepers=[]):\n",
    "    return keepers + [np.random.randint(1, 7) for _ in range(NUM_DICE - len(keepers))]"
   ]
  },
  {
   "cell_type": "code",
   "execution_count": null,
   "metadata": {},
   "outputs": [],
   "source": []
  },
  {
   "cell_type": "code",
   "execution_count": 4,
   "metadata": {},
   "outputs": [],
   "source": [
    "def select(n, m):\n",
    "    C = math.factorial(n)/(math.factorial(m)*math.factorial(n-m)) \n",
    "    return C"
   ]
  },
  {
   "cell_type": "code",
   "execution_count": 5,
   "metadata": {},
   "outputs": [],
   "source": [
    "# Calculates the chance of going from one amount of a number to another in one dice roll\n",
    "def prob1(fro, to):\n",
    "    n = NUM_DICE - fro \n",
    "    m = to - fro\n",
    "    C = select(n, m)\n",
    "    prob = C*math.pow(1.0/6.0,(m))*math.pow(5.0/6.0,(n-m)) \n",
    "    return prob"
   ]
  },
  {
   "cell_type": "code",
   "execution_count": 6,
   "metadata": {},
   "outputs": [],
   "source": [
    "# Calculates the chance of going from one amount of a number to another in two dice rolls\n",
    "def prob2(fro, to):\n",
    "    prob = 0\n",
    "    for i in range(fro,to+1):\n",
    "        prob += prob1(fro,i)*prob1(i,to) \n",
    "    return prob"
   ]
  },
  {
   "cell_type": "code",
   "execution_count": null,
   "metadata": {},
   "outputs": [],
   "source": []
  },
  {
   "cell_type": "code",
   "execution_count": 7,
   "metadata": {
    "code_folding": []
   },
   "outputs": [],
   "source": [
    "from itertools import chain, combinations\n",
    "\n",
    "def powerset(iterable):\n",
    "    \"powerset([1,2,3]) --> () (1,) (2,) (3,) (1,2) (1,3) (2,3) (1,2,3)\"\n",
    "    s = list(iterable)\n",
    "    return chain.from_iterable(combinations(s, r) for r in range(len(s)+1))"
   ]
  },
  {
   "cell_type": "code",
   "execution_count": null,
   "metadata": {},
   "outputs": [],
   "source": []
  },
  {
   "cell_type": "code",
   "execution_count": 8,
   "metadata": {
    "code_folding": []
   },
   "outputs": [],
   "source": [
    "def cmb_keepers(roll):\n",
    "    return list(set(list(powerset(roll))))"
   ]
  },
  {
   "cell_type": "code",
   "execution_count": null,
   "metadata": {},
   "outputs": [],
   "source": []
  },
  {
   "cell_type": "code",
   "execution_count": 9,
   "metadata": {},
   "outputs": [],
   "source": [
    "def upper_bonus(score_card):\n",
    "    total = 0\n",
    "    for cat in ['aces', 'twos', 'threes', 'fours', 'fives', 'sixes']:\n",
    "        total += score_card[cat] if score_card[cat] != -1 else 0\n",
    "    \n",
    "    return 35 if total >= 63 else 0"
   ]
  },
  {
   "cell_type": "code",
   "execution_count": null,
   "metadata": {},
   "outputs": [],
   "source": []
  },
  {
   "cell_type": "code",
   "execution_count": 10,
   "metadata": {
    "code_folding": []
   },
   "outputs": [],
   "source": [
    "@jit()\n",
    "def score_3ofkind(roll):\n",
    "    for e in roll:\n",
    "        if roll.count(e) >= 3:\n",
    "            return sum(roll)\n",
    "    return 0"
   ]
  },
  {
   "cell_type": "code",
   "execution_count": 11,
   "metadata": {
    "code_folding": []
   },
   "outputs": [],
   "source": [
    "@jit()\n",
    "def score_4ofkind(roll):\n",
    "    for e in roll:\n",
    "        if roll.count(e) >= 4:\n",
    "            return sum(roll)\n",
    "    return 0"
   ]
  },
  {
   "cell_type": "code",
   "execution_count": 12,
   "metadata": {
    "code_folding": []
   },
   "outputs": [],
   "source": [
    "@jit()\n",
    "def score_fullhouse(roll):\n",
    "    if ((roll.count(list(set(roll))[0]) == 3 and roll.count(list(set(roll))[1]) == 2)\n",
    "       or (roll.count(list(set(roll))[0]) == 2 and roll.count(list(set(roll))[1]) == 3)):\n",
    "        return 25\n",
    "    return 0"
   ]
  },
  {
   "cell_type": "code",
   "execution_count": 13,
   "metadata": {
    "code_folding": []
   },
   "outputs": [],
   "source": [
    "def score_smsrtaight(roll):\n",
    "    roll = list(set(roll))\n",
    "    roll.sort()\n",
    "    s = ''.join(str(x) for x in roll)\n",
    "    for st in ['1234','2345','3456']:\n",
    "        if st in s:\n",
    "            return 30\n",
    "    return 0"
   ]
  },
  {
   "cell_type": "code",
   "execution_count": 14,
   "metadata": {
    "code_folding": []
   },
   "outputs": [],
   "source": [
    "def score_lstraight(roll):\n",
    "    roll = list(set(roll))\n",
    "    roll.sort()\n",
    "    s = ''.join(str(x) for x in roll)\n",
    "    if s == '12345' or s == '23456':\n",
    "        return 40\n",
    "    return 0"
   ]
  },
  {
   "cell_type": "code",
   "execution_count": 15,
   "metadata": {
    "code_folding": []
   },
   "outputs": [],
   "source": [
    "@jit()\n",
    "def score_yahtzee(roll):\n",
    "    return 50 if roll.count(roll[0]) == 5 else 0"
   ]
  },
  {
   "cell_type": "code",
   "execution_count": null,
   "metadata": {},
   "outputs": [],
   "source": []
  },
  {
   "cell_type": "code",
   "execution_count": 16,
   "metadata": {},
   "outputs": [],
   "source": [
    "# gibt alle einzigartigen Kombinationen von amt verschiedenen Würfeln zurück\n",
    "def cmb_rolls(amt):\n",
    "    def _rolls(amt, min_v):\n",
    "        if amt == 0:\n",
    "            return [[]]\n",
    "        \n",
    "        output = []\n",
    "        \n",
    "        for i in range(min_v, 7):\n",
    "            next_roll = _rolls(amt-1, i)\n",
    "            for j in range(len(next_roll)):\n",
    "                next_roll[j] = [i] + next_roll[j]\n",
    "            output += next_roll\n",
    "            \n",
    "        return output\n",
    "            \n",
    "    return _rolls(amt, 1)"
   ]
  },
  {
   "cell_type": "code",
   "execution_count": 17,
   "metadata": {},
   "outputs": [],
   "source": [
    "calc_cat = {\n",
    "    'aces' : lambda x : x.count(1),\n",
    "    'twos' : lambda x : x.count(2)*2,\n",
    "    'threes' : lambda x : x.count(3)*3,\n",
    "    'fours' : lambda x : x.count(4)*4,\n",
    "    'fives' : lambda x : x.count(5)*5,\n",
    "    'sixes' : lambda x : x.count(6)*6,\n",
    "    \n",
    "    '3_kind' : score_3ofkind,\n",
    "    '4_kind' : score_4ofkind,\n",
    "    'full_house': score_fullhouse,\n",
    "    's_straight' : score_smsrtaight,\n",
    "    'l_straight' : score_lstraight,\n",
    "    'yahtzee' : score_yahtzee,\n",
    "    'chance' : lambda x : sum(x)\n",
    "}"
   ]
  },
  {
   "cell_type": "code",
   "execution_count": null,
   "metadata": {},
   "outputs": [],
   "source": []
  },
  {
   "cell_type": "code",
   "execution_count": 18,
   "metadata": {},
   "outputs": [],
   "source": [
    "scores = {\n",
    "    'aces' : -1,\n",
    "    'twos' : -1,\n",
    "    'threes' : -1,\n",
    "    'fours' : -1,\n",
    "    'fives' : -1,\n",
    "    'sixes' : -1,\n",
    "    \n",
    "    '3_kind' : -1,\n",
    "    '4_kind' : -1,\n",
    "    'full_house': -1,\n",
    "    's_straight' : -1,\n",
    "    'l_straight' : -1,\n",
    "    'yahtzee' : -1,\n",
    "    'chance' : -1,\n",
    "}"
   ]
  },
  {
   "cell_type": "code",
   "execution_count": null,
   "metadata": {},
   "outputs": [],
   "source": []
  },
  {
   "cell_type": "code",
   "execution_count": null,
   "metadata": {},
   "outputs": [],
   "source": []
  },
  {
   "cell_type": "code",
   "execution_count": null,
   "metadata": {},
   "outputs": [],
   "source": []
  },
  {
   "cell_type": "code",
   "execution_count": 19,
   "metadata": {},
   "outputs": [],
   "source": [
    "def score_card_roll(roll, scorecard):\n",
    "    scorecard = scorecard.copy()\n",
    "    \n",
    "    for key in scores.keys():\n",
    "        if scorecard[key] == -1:\n",
    "            scorecard[key] = calc_cat[key](roll)\n",
    "            \n",
    "    return scorecard"
   ]
  },
  {
   "cell_type": "code",
   "execution_count": 20,
   "metadata": {
    "scrolled": true
   },
   "outputs": [
    {
     "name": "stderr",
     "output_type": "stream",
     "text": [
      "<ipython-input-10-c7caafff7242>:1: NumbaWarning: \n",
      "Compilation is falling back to object mode WITH looplifting enabled because Function \"score_3ofkind\" failed type inference due to: Untyped global name 'sum': cannot determine Numba type of <class 'builtin_function_or_method'>\n",
      "\n",
      "File \"<ipython-input-10-c7caafff7242>\", line 5:\n",
      "def score_3ofkind(roll):\n",
      "    <source elided>\n",
      "        if roll.count(e) >= 3:\n",
      "            return sum(roll)\n",
      "            ^\n",
      "\n",
      "  @jit()\n",
      "/Library/Frameworks/Python.framework/Versions/3.6/lib/python3.6/site-packages/numba/object_mode_passes.py:178: NumbaWarning: Function \"score_3ofkind\" was compiled in object mode without forceobj=True.\n",
      "\n",
      "File \"<ipython-input-10-c7caafff7242>\", line 2:\n",
      "@jit()\n",
      "def score_3ofkind(roll):\n",
      "^\n",
      "\n",
      "  state.func_ir.loc))\n",
      "/Library/Frameworks/Python.framework/Versions/3.6/lib/python3.6/site-packages/numba/object_mode_passes.py:187: NumbaDeprecationWarning: \n",
      "Fall-back from the nopython compilation path to the object mode compilation path has been detected, this is deprecated behaviour.\n",
      "\n",
      "For more information visit http://numba.pydata.org/numba-doc/latest/reference/deprecation.html#deprecation-of-object-mode-fall-back-behaviour-when-using-jit\n",
      "\n",
      "File \"<ipython-input-10-c7caafff7242>\", line 2:\n",
      "@jit()\n",
      "def score_3ofkind(roll):\n",
      "^\n",
      "\n",
      "  warnings.warn(errors.NumbaDeprecationWarning(msg, state.func_ir.loc))\n",
      "<ipython-input-11-1448eb06207c>:1: NumbaWarning: \n",
      "Compilation is falling back to object mode WITH looplifting enabled because Function \"score_4ofkind\" failed type inference due to: Untyped global name 'sum': cannot determine Numba type of <class 'builtin_function_or_method'>\n",
      "\n",
      "File \"<ipython-input-11-1448eb06207c>\", line 5:\n",
      "def score_4ofkind(roll):\n",
      "    <source elided>\n",
      "        if roll.count(e) >= 4:\n",
      "            return sum(roll)\n",
      "            ^\n",
      "\n",
      "  @jit()\n",
      "/Library/Frameworks/Python.framework/Versions/3.6/lib/python3.6/site-packages/numba/object_mode_passes.py:178: NumbaWarning: Function \"score_4ofkind\" was compiled in object mode without forceobj=True.\n",
      "\n",
      "File \"<ipython-input-11-1448eb06207c>\", line 2:\n",
      "@jit()\n",
      "def score_4ofkind(roll):\n",
      "^\n",
      "\n",
      "  state.func_ir.loc))\n",
      "/Library/Frameworks/Python.framework/Versions/3.6/lib/python3.6/site-packages/numba/object_mode_passes.py:187: NumbaDeprecationWarning: \n",
      "Fall-back from the nopython compilation path to the object mode compilation path has been detected, this is deprecated behaviour.\n",
      "\n",
      "For more information visit http://numba.pydata.org/numba-doc/latest/reference/deprecation.html#deprecation-of-object-mode-fall-back-behaviour-when-using-jit\n",
      "\n",
      "File \"<ipython-input-11-1448eb06207c>\", line 2:\n",
      "@jit()\n",
      "def score_4ofkind(roll):\n",
      "^\n",
      "\n",
      "  warnings.warn(errors.NumbaDeprecationWarning(msg, state.func_ir.loc))\n",
      "/Library/Frameworks/Python.framework/Versions/3.6/lib/python3.6/site-packages/numba/ir_utils.py:1969: NumbaPendingDeprecationWarning: \n",
      "Encountered the use of a type that is scheduled for deprecation: type 'reflected list' found for argument 'roll' of function 'score_fullhouse'.\n",
      "\n",
      "For more information visit http://numba.pydata.org/numba-doc/latest/reference/deprecation.html#deprecation-of-reflection-for-list-and-set-types\n",
      "\n",
      "File \"<ipython-input-12-18b5ff4ffc8f>\", line 2:\n",
      "@jit()\n",
      "def score_fullhouse(roll):\n",
      "^\n",
      "\n",
      "  warnings.warn(NumbaPendingDeprecationWarning(msg, loc=loc))\n",
      "/Library/Frameworks/Python.framework/Versions/3.6/lib/python3.6/site-packages/numba/ir_utils.py:1969: NumbaPendingDeprecationWarning: \n",
      "Encountered the use of a type that is scheduled for deprecation: type 'reflected list' found for argument 'lst' of function 'list_count.<locals>.list_count_impl'.\n",
      "\n",
      "For more information visit http://numba.pydata.org/numba-doc/latest/reference/deprecation.html#deprecation-of-reflection-for-list-and-set-types\n",
      "\n",
      "File \"../../../../../Library/Frameworks/Python.framework/Versions/3.6/lib/python3.6/site-packages/numba/targets/listobj.py\", line 865:\n",
      "\n",
      "    def list_count_impl(lst, value):\n",
      "    ^\n",
      "\n",
      "  warnings.warn(NumbaPendingDeprecationWarning(msg, loc=loc))\n",
      "/Library/Frameworks/Python.framework/Versions/3.6/lib/python3.6/site-packages/numba/ir_utils.py:1969: NumbaPendingDeprecationWarning: \n",
      "Encountered the use of a type that is scheduled for deprecation: type 'reflected list' found for argument 'roll' of function 'score_yahtzee'.\n",
      "\n",
      "For more information visit http://numba.pydata.org/numba-doc/latest/reference/deprecation.html#deprecation-of-reflection-for-list-and-set-types\n",
      "\n",
      "File \"<ipython-input-15-aa106de88060>\", line 2:\n",
      "@jit()\n",
      "def score_yahtzee(roll):\n",
      "^\n",
      "\n",
      "  warnings.warn(NumbaPendingDeprecationWarning(msg, loc=loc))\n"
     ]
    }
   ],
   "source": [
    "rolls_scorecards = {}\n",
    "\n",
    "for roll in cmb_rolls(5):\n",
    "    roll.sort()\n",
    "    \n",
    "    # key = roll as string\n",
    "    key = ''.join(str(x) for x in roll)\n",
    "    \n",
    "    s = score_card_roll(roll, scores)\n",
    "    \n",
    "    rolls_scorecards[key] = s"
   ]
  },
  {
   "cell_type": "code",
   "execution_count": 21,
   "metadata": {},
   "outputs": [],
   "source": [
    "counter = {}\n",
    "rolls = cmb_rolls(5)\n",
    "fraction = Fraction(1, len(rolls))\n",
    "for roll in rolls:\n",
    "    roll.sort()\n",
    "    key = ''.join(str(x) for x in roll)\n",
    "    if key in counter.keys():\n",
    "        counter[key] += fraction\n",
    "    else:\n",
    "        counter[key] = fraction\n",
    "\n"
   ]
  },
  {
   "cell_type": "code",
   "execution_count": null,
   "metadata": {},
   "outputs": [],
   "source": []
  },
  {
   "cell_type": "code",
   "execution_count": 22,
   "metadata": {},
   "outputs": [],
   "source": [
    "def get_roll_scorecard(roll):\n",
    "    roll.sort()\n",
    "    return rolls_scorecards[''.join(str(x) for x in roll)]"
   ]
  },
  {
   "cell_type": "code",
   "execution_count": null,
   "metadata": {},
   "outputs": [],
   "source": []
  },
  {
   "cell_type": "code",
   "execution_count": 23,
   "metadata": {},
   "outputs": [],
   "source": [
    "def get_final_roll_value(scorecard):\n",
    "    rolls_scorecards = {}\n",
    "\n",
    "    for roll in cmb_rolls(5):\n",
    "        roll.sort()\n",
    "\n",
    "        # key = roll as string\n",
    "        key = ''.join(str(x) for x in roll)\n",
    "\n",
    "        s = score_card_roll(roll, scores)\n",
    "\n",
    "        rolls_scorecards[key] = s"
   ]
  },
  {
   "cell_type": "code",
   "execution_count": null,
   "metadata": {},
   "outputs": [],
   "source": []
  },
  {
   "cell_type": "code",
   "execution_count": 24,
   "metadata": {},
   "outputs": [],
   "source": [
    "def upper_total(score_card):\n",
    "    total = 0\n",
    "    for cat in ['aces', 'twos', 'threes', 'fours', 'fives', 'sixes']:\n",
    "        total += score_card[cat] if score_card[cat] != -1 else 0\n",
    "        \n",
    "    return total"
   ]
  },
  {
   "cell_type": "code",
   "execution_count": null,
   "metadata": {},
   "outputs": [],
   "source": []
  },
  {
   "cell_type": "code",
   "execution_count": 25,
   "metadata": {},
   "outputs": [],
   "source": [
    "def max_ev_roll(scorecard, roll):\n",
    "    card = get_roll_scorecard(roll)\n",
    "    \n",
    "    upper_section = upper_total(score_card)\n",
    "    upper_section_categories = ['aces', 'twos', 'threes', 'fours', 'fives', 'sixes']\n",
    "    \n",
    "    best_key = ''\n",
    "    best_ev = -1\n",
    "    \n",
    "    for key in scorecard.keys():\n",
    "        if scorecard[key] == -1:\n",
    "            ev = card[key]\n",
    "            \n",
    "            if key in upper_section_categories:\n",
    "                if upper_section < 63 and upper_section + ev >= 63:\n",
    "                    ev += 35\n",
    "            \n",
    "            if ev > best_ev:\n",
    "                best_key = key\n",
    "                best_ev = ev\n",
    "            \n",
    "    return best_ev, best_key"
   ]
  },
  {
   "cell_type": "code",
   "execution_count": null,
   "metadata": {},
   "outputs": [],
   "source": []
  },
  {
   "cell_type": "code",
   "execution_count": null,
   "metadata": {},
   "outputs": [],
   "source": []
  },
  {
   "cell_type": "code",
   "execution_count": 26,
   "metadata": {},
   "outputs": [],
   "source": [
    "# berechnet die keeper eines gegebenen rolls, welche beim aktuellen schritt bei einem reroll \n",
    "# im erwartungswert den höchsten wert haben.\n",
    "# die funktion müsste sich rerkuriv aufrufen lassen, um so die keeper für 2 rerolls zu berechnen.\n",
    "# durch rekursive aufrufe mit kopien der scorecard, in welchen die kategorie der jeweiligen\n",
    "# 'besten' ev rerolls ausgefüllt sind müsste sich die langfristig für den erwartungswert \n",
    "# beste strategie berechnen lasseb müssen\n",
    "\n",
    "def max_ev_keeper(scorecard, roll):\n",
    "    keepers = cmb_keepers(roll)\n",
    "    \n",
    "    cache = {}\n",
    "    \n",
    "    max_ev = 0\n",
    "    best_keepers = roll.copy()\n",
    "    \n",
    "    for keeper in keepers:\n",
    "        keeper = list(keeper)\n",
    "        \n",
    "        keeper_cnt = len(keeper)\n",
    "        if keeper_cnt < 5:\n",
    "            \n",
    "            ev = 0\n",
    "            rerolls = cmb_rolls(5-keeper_cnt)\n",
    "            for reroll in rerolls:\n",
    "                reroll += keeper\n",
    "                reroll.sort()\n",
    "\n",
    "                key = ''.join(str(x) for x in reroll)\n",
    "\n",
    "                if key in cache.keys():\n",
    "                    ev += counter[key] * cache[key]\n",
    "                else:\n",
    "                    reroll_ev = max_ev_roll(scorecard, reroll)[0]\n",
    "                    cache[key] = reroll_ev\n",
    "                    ev += counter[key] * reroll_ev\n",
    "\n",
    "            ev /= len(rerolls)\n",
    "            \n",
    "        else:\n",
    "            keeper.sort()\n",
    "            key = ''.join(str(x) for x in keeper)\n",
    "            if key in cache.keys():\n",
    "                ev = counter[key] * cache[key]\n",
    "            else:\n",
    "                reroll_ev = max_ev_roll(scorecard, keeper)[0]\n",
    "                cache[key] = reroll_ev\n",
    "                ev = counter[key] * reroll_ev\n",
    "        \n",
    "        if ev > max_ev:\n",
    "            max_ev = ev\n",
    "            best_keepers = keeper\n",
    "                \n",
    "                \n",
    "    return best_keepers, ev"
   ]
  },
  {
   "cell_type": "code",
   "execution_count": 27,
   "metadata": {},
   "outputs": [],
   "source": [
    "# naive implementation für 2 rerolls, bedarf evtl optimierung\n",
    "\n",
    "def max_ev_keeper2(scorecard, roll):\n",
    "    keepers = cmb_keepers(roll)\n",
    "    \n",
    "    cache = {}\n",
    "    \n",
    "    max_ev = 0\n",
    "    best_keepers = roll.copy()\n",
    "    \n",
    "    \n",
    "    for keeper in keepers:\n",
    "        keeper = list(keeper)\n",
    "        \n",
    "        keeper_cnt = len(keeper)\n",
    "        if keeper_cnt < 5:\n",
    "            ev = 0\n",
    "            \n",
    "            rerolls = cmb_rolls(5-keeper_cnt)\n",
    "            for reroll in rerolls:\n",
    "                reroll += keeper\n",
    "                reroll.sort()\n",
    "\n",
    "                key = ''.join(str(x) for x in reroll)\n",
    "\n",
    "                if key in cache.keys():\n",
    "                    ev += counter[key] * cache[key]\n",
    "                else:\n",
    "                    reroll_ev = max_ev_keeper(scorecard, reroll)[1]\n",
    "                    cache[key] = reroll_ev\n",
    "                    ev += counter[key] * reroll_ev\n",
    "\n",
    "            ev /= len(rerolls)\n",
    "            \n",
    "        else:\n",
    "            keeper.sort()\n",
    "            key = ''.join(str(x) for x in keeper)\n",
    "            if key in cache.keys():\n",
    "                ev = counter[key] * cache[key]\n",
    "            else:\n",
    "                reroll_ev = max_ev_keeper(scorecard, keeper)[1]\n",
    "                cache[key] = reroll_ev\n",
    "                ev = counter[key] * reroll_ev\n",
    "        \n",
    "        if ev > max_ev:\n",
    "            max_ev = ev\n",
    "            best_keepers = keeper\n",
    "            \n",
    "    return best_keepers, ev"
   ]
  },
  {
   "cell_type": "code",
   "execution_count": null,
   "metadata": {},
   "outputs": [],
   "source": []
  },
  {
   "cell_type": "code",
   "execution_count": 28,
   "metadata": {},
   "outputs": [],
   "source": [
    "score_card = {\n",
    "    'aces' : -1,\n",
    "    'twos' : -1,\n",
    "    'threes' : -1,\n",
    "    'fours' : -1,\n",
    "    'fives' : -1,\n",
    "    'sixes' : -1,\n",
    "    \n",
    "    '3_kind' : -1,\n",
    "    '4_kind' : -1,\n",
    "    'full_house': -1,\n",
    "    's_straight' : -1,\n",
    "    'l_straight' : -1,\n",
    "    'yahtzee' : -1,\n",
    "    'chance' : -1,\n",
    "}"
   ]
  },
  {
   "cell_type": "code",
   "execution_count": null,
   "metadata": {},
   "outputs": [],
   "source": []
  },
  {
   "cell_type": "code",
   "execution_count": 29,
   "metadata": {},
   "outputs": [
    {
     "data": {
      "text/plain": [
       "[1, 6, 5, 4, 2]"
      ]
     },
     "execution_count": 29,
     "metadata": {},
     "output_type": "execute_result"
    }
   ],
   "source": [
    "# beispielhafte greedy strategie\n",
    "roll = roll_dices()\n",
    "roll"
   ]
  },
  {
   "cell_type": "code",
   "execution_count": 30,
   "metadata": {},
   "outputs": [
    {
     "data": {
      "text/plain": [
       "[6, 5, 4]"
      ]
     },
     "execution_count": 30,
     "metadata": {},
     "output_type": "execute_result"
    }
   ],
   "source": [
    "keeper, expected_value = max_ev_keeper2(score_card, roll)\n",
    "keeper"
   ]
  },
  {
   "cell_type": "code",
   "execution_count": 31,
   "metadata": {},
   "outputs": [
    {
     "data": {
      "text/plain": [
       "[6, 5, 4, 6, 3]"
      ]
     },
     "execution_count": 31,
     "metadata": {},
     "output_type": "execute_result"
    }
   ],
   "source": [
    "roll = roll_dices(keepers=keeper)\n",
    "roll"
   ]
  },
  {
   "cell_type": "code",
   "execution_count": 32,
   "metadata": {},
   "outputs": [
    {
     "data": {
      "text/plain": [
       "[6, 5, 4, 3]"
      ]
     },
     "execution_count": 32,
     "metadata": {},
     "output_type": "execute_result"
    }
   ],
   "source": [
    "keeper, expected_value = max_ev_keeper(score_card, roll)\n",
    "keeper"
   ]
  },
  {
   "cell_type": "code",
   "execution_count": 33,
   "metadata": {},
   "outputs": [
    {
     "data": {
      "text/plain": [
       "[6, 5, 4, 3, 4]"
      ]
     },
     "execution_count": 33,
     "metadata": {},
     "output_type": "execute_result"
    }
   ],
   "source": [
    "roll = roll_dices(keepers=keeper)\n",
    "roll"
   ]
  },
  {
   "cell_type": "code",
   "execution_count": 34,
   "metadata": {},
   "outputs": [
    {
     "data": {
      "text/plain": [
       "(30, 's_straight')"
      ]
     },
     "execution_count": 34,
     "metadata": {},
     "output_type": "execute_result"
    }
   ],
   "source": [
    "max_ev_roll(score_card, roll)"
   ]
  },
  {
   "cell_type": "code",
   "execution_count": null,
   "metadata": {},
   "outputs": [],
   "source": []
  },
  {
   "cell_type": "code",
   "execution_count": null,
   "metadata": {},
   "outputs": [],
   "source": []
  },
  {
   "cell_type": "code",
   "execution_count": null,
   "metadata": {},
   "outputs": [],
   "source": []
  },
  {
   "cell_type": "code",
   "execution_count": null,
   "metadata": {},
   "outputs": [],
   "source": []
  },
  {
   "cell_type": "code",
   "execution_count": null,
   "metadata": {},
   "outputs": [],
   "source": []
  },
  {
   "cell_type": "code",
   "execution_count": null,
   "metadata": {},
   "outputs": [],
   "source": []
  },
  {
   "cell_type": "code",
   "execution_count": null,
   "metadata": {},
   "outputs": [],
   "source": []
  },
  {
   "cell_type": "code",
   "execution_count": null,
   "metadata": {},
   "outputs": [],
   "source": []
  },
  {
   "cell_type": "code",
   "execution_count": null,
   "metadata": {},
   "outputs": [],
   "source": []
  },
  {
   "cell_type": "code",
   "execution_count": null,
   "metadata": {},
   "outputs": [],
   "source": []
  },
  {
   "cell_type": "code",
   "execution_count": null,
   "metadata": {},
   "outputs": [],
   "source": []
  },
  {
   "cell_type": "code",
   "execution_count": null,
   "metadata": {},
   "outputs": [],
   "source": []
  },
  {
   "cell_type": "code",
   "execution_count": null,
   "metadata": {},
   "outputs": [],
   "source": []
  }
 ],
 "metadata": {
  "kernelspec": {
   "display_name": "Python 3",
   "language": "python",
   "name": "python3"
  },
  "language_info": {
   "codemirror_mode": {
    "name": "ipython",
    "version": 3
   },
   "file_extension": ".py",
   "mimetype": "text/x-python",
   "name": "python",
   "nbconvert_exporter": "python",
   "pygments_lexer": "ipython3",
   "version": "3.6.7"
  },
  "latex_envs": {
   "LaTeX_envs_menu_present": true,
   "autoclose": false,
   "autocomplete": true,
   "bibliofile": "biblio.bib",
   "cite_by": "apalike",
   "current_citInitial": 1,
   "eqLabelWithNumbers": true,
   "eqNumInitial": 1,
   "hotkeys": {
    "equation": "Ctrl-E",
    "itemize": "Ctrl-I"
   },
   "labels_anchors": false,
   "latex_user_defs": false,
   "report_style_numbering": false,
   "user_envs_cfg": false
  }
 },
 "nbformat": 4,
 "nbformat_minor": 2
}
